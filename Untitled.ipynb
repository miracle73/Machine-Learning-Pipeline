{
 "cells": [
  {
   "cell_type": "code",
   "execution_count": 1,
   "id": "9d58f5d7",
   "metadata": {},
   "outputs": [],
   "source": [
    "import pandas as pd\n",
    "import re"
   ]
  },
  {
   "cell_type": "code",
   "execution_count": 21,
   "id": "e0a9b392",
   "metadata": {},
   "outputs": [],
   "source": [
    "df = pd.read_excel('Unstructured.xlsx')"
   ]
  },
  {
   "cell_type": "code",
   "execution_count": 22,
   "id": "90b419e8",
   "metadata": {
    "scrolled": true
   },
   "outputs": [
    {
     "data": {
      "text/html": [
       "<div>\n",
       "<style scoped>\n",
       "    .dataframe tbody tr th:only-of-type {\n",
       "        vertical-align: middle;\n",
       "    }\n",
       "\n",
       "    .dataframe tbody tr th {\n",
       "        vertical-align: top;\n",
       "    }\n",
       "\n",
       "    .dataframe thead th {\n",
       "        text-align: right;\n",
       "    }\n",
       "</style>\n",
       "<table border=\"1\" class=\"dataframe\">\n",
       "  <thead>\n",
       "    <tr style=\"text-align: right;\">\n",
       "      <th></th>\n",
       "      <th>Emails</th>\n",
       "    </tr>\n",
       "  </thead>\n",
       "  <tbody>\n",
       "    <tr>\n",
       "      <th>0</th>\n",
       "      <td>An internal memo revealed testing issues that ...</td>\n",
       "    </tr>\n",
       "    <tr>\n",
       "      <th>1</th>\n",
       "      <td>The agency reported that CS2 had over 1,000 re...</td>\n",
       "    </tr>\n",
       "    <tr>\n",
       "      <th>2</th>\n",
       "      <td>software failures ended up costing an estimate...</td>\n",
       "    </tr>\n",
       "    <tr>\n",
       "      <th>3</th>\n",
       "      <td>EDS, a Texas-based contractor, also announced ...</td>\n",
       "    </tr>\n",
       "    <tr>\n",
       "      <th>4</th>\n",
       "      <td>As result of software failures, thousands of t...</td>\n",
       "    </tr>\n",
       "    <tr>\n",
       "      <th>5</th>\n",
       "      <td>Baggage handling system failed miserably in re...</td>\n",
       "    </tr>\n",
       "    <tr>\n",
       "      <th>6</th>\n",
       "      <td>At the end of a busy day, the manager receives...</td>\n",
       "    </tr>\n",
       "    <tr>\n",
       "      <th>7</th>\n",
       "      <td>For missed EOVS notice, Technology Manager rec...</td>\n",
       "    </tr>\n",
       "    <tr>\n",
       "      <th>8</th>\n",
       "      <td>Due to Insufficient backup power, there is a 7...</td>\n",
       "    </tr>\n",
       "    <tr>\n",
       "      <th>9</th>\n",
       "      <td>Disk drive failure caused Operating System ero...</td>\n",
       "    </tr>\n",
       "    <tr>\n",
       "      <th>10</th>\n",
       "      <td>Failed disk to the operating system casued har...</td>\n",
       "    </tr>\n",
       "    <tr>\n",
       "      <th>11</th>\n",
       "      <td>Short-circuit caused Fire in datacenter that r...</td>\n",
       "    </tr>\n",
       "    <tr>\n",
       "      <th>12</th>\n",
       "      <td>Admin found there are User accounts with passw...</td>\n",
       "    </tr>\n",
       "    <tr>\n",
       "      <th>13</th>\n",
       "      <td>Found some User accounts with passwords catego...</td>\n",
       "    </tr>\n",
       "    <tr>\n",
       "      <th>14</th>\n",
       "      <td>Identified 300 Inactive User accounts</td>\n",
       "    </tr>\n",
       "    <tr>\n",
       "      <th>15</th>\n",
       "      <td>User accounts with administrative permissions</td>\n",
       "    </tr>\n",
       "    <tr>\n",
       "      <th>16</th>\n",
       "      <td>Found 100 Empty security groups.</td>\n",
       "    </tr>\n",
       "    <tr>\n",
       "      <th>17</th>\n",
       "      <td>Administrative Groups</td>\n",
       "    </tr>\n",
       "    <tr>\n",
       "      <th>18</th>\n",
       "      <td>Admin found Shared folders accessible by everyone</td>\n",
       "    </tr>\n",
       "    <tr>\n",
       "      <th>19</th>\n",
       "      <td>There were hundrededs of File names containing...</td>\n",
       "    </tr>\n",
       "  </tbody>\n",
       "</table>\n",
       "</div>"
      ],
      "text/plain": [
       "                                               Emails\n",
       "0   An internal memo revealed testing issues that ...\n",
       "1   The agency reported that CS2 had over 1,000 re...\n",
       "2   software failures ended up costing an estimate...\n",
       "3   EDS, a Texas-based contractor, also announced ...\n",
       "4   As result of software failures, thousands of t...\n",
       "5   Baggage handling system failed miserably in re...\n",
       "6   At the end of a busy day, the manager receives...\n",
       "7   For missed EOVS notice, Technology Manager rec...\n",
       "8   Due to Insufficient backup power, there is a 7...\n",
       "9   Disk drive failure caused Operating System ero...\n",
       "10  Failed disk to the operating system casued har...\n",
       "11  Short-circuit caused Fire in datacenter that r...\n",
       "12  Admin found there are User accounts with passw...\n",
       "13  Found some User accounts with passwords catego...\n",
       "14              Identified 300 Inactive User accounts\n",
       "15      User accounts with administrative permissions\n",
       "16                   Found 100 Empty security groups.\n",
       "17                             Administrative Groups \n",
       "18  Admin found Shared folders accessible by everyone\n",
       "19  There were hundrededs of File names containing..."
      ]
     },
     "execution_count": 22,
     "metadata": {},
     "output_type": "execute_result"
    }
   ],
   "source": [
    "df"
   ]
  },
  {
   "cell_type": "code",
   "execution_count": 23,
   "id": "bd596337",
   "metadata": {},
   "outputs": [],
   "source": [
    "# Define patterns for technology events\n",
    "software_failures = r\"(software failure|buggy software|EOL)\"\n",
    "hardware_failures = r\"(hardware failure|disk drive failure|fire)\"\n",
    "security_issues = r\"(security|vendor support|user accounts|passwords|fire)\""
   ]
  },
  {
   "cell_type": "code",
   "execution_count": 24,
   "id": "0a27ded6",
   "metadata": {},
   "outputs": [],
   "source": [
    "# Create empty dictionary to store event counts\n",
    "event_counts = {\"Software Failure\": 0, \"Hardware Failure\": 0, \"Security Issue\": 0}"
   ]
  },
  {
   "cell_type": "code",
   "execution_count": 25,
   "id": "53012c7c",
   "metadata": {},
   "outputs": [],
   "source": [
    "# Function to identify and count events\n",
    "def count_events(text, patterns, event_counts):\n",
    "  for event_type, pattern in patterns.items():\n",
    "    matches = len(re.findall(pattern, text, re.IGNORECASE))\n",
    "    event_counts[event_type] += matches\n",
    "  return event_counts"
   ]
  },
  {
   "cell_type": "code",
   "execution_count": 26,
   "id": "be9e7c86",
   "metadata": {},
   "outputs": [],
   "source": [
    "# Apply function to each email in the DataFrame\n",
    "df[\"Events\"] = df[\"Emails\"].apply(lambda email: count_events(email, \n",
    "                                                             {\"Software Failure\": software_failures, \n",
    "                                                              \"Hardware Failure\": hardware_failures, \n",
    "                                                              \"Security Issue\": security_issues}, \n",
    "                                                             event_counts.copy()))\n"
   ]
  },
  {
   "cell_type": "code",
   "execution_count": 27,
   "id": "5bbd7aa3",
   "metadata": {},
   "outputs": [],
   "source": [
    "# Summarize event counts\n",
    "event_summary = pd.DataFrame.from_dict(event_counts, orient='index', columns=['Count'])"
   ]
  },
  {
   "cell_type": "code",
   "execution_count": 31,
   "id": "655f1cb5",
   "metadata": {},
   "outputs": [
    {
     "data": {
      "text/plain": [
       "{'Software Failure': 2, 'Hardware Failure': 0, 'Security Issue': 0}"
      ]
     },
     "execution_count": 31,
     "metadata": {},
     "output_type": "execute_result"
    }
   ],
   "source": [
    "# Display results\n",
    "df[\"Events\"].iloc[1]"
   ]
  },
  {
   "cell_type": "code",
   "execution_count": null,
   "id": "d215483e",
   "metadata": {},
   "outputs": [],
   "source": []
  },
  {
   "cell_type": "code",
   "execution_count": null,
   "id": "70c8bb2e",
   "metadata": {},
   "outputs": [],
   "source": []
  },
  {
   "cell_type": "code",
   "execution_count": null,
   "id": "a963f0cb",
   "metadata": {},
   "outputs": [],
   "source": [
    "# Sample unstructured data (replace with your actual data)\n",
    "emails = \"\"\"\n",
    "... (your email content here) ...\n",
    "\"\"\"\n",
    "\n",
    "# Define technology-related keywords\n",
    "tech_keywords = [\"software failure\", \"hardware failures\", \"end-of-life\", \"passwords\", \"administrative permissions\", \"Shared folders\"]\n",
    "\n",
    "# Initialize a dictionary to store event counts\n",
    "event_counts = {keyword: 0 for keyword in tech_keywords}\n",
    "\n",
    "# Search for occurrences of keywords in the emails\n",
    "for line in emails.splitlines():\n",
    "    for keyword in tech_keywords:\n",
    "        if re.search(keyword, line, flags=re.IGNORECASE):\n",
    "            event_counts[keyword] += 1\n",
    "\n",
    "# Create a DataFrame from the event counts\n",
    "df = pd.DataFrame(event_counts.items(), columns=[\"Technology Event\", \"Occurrences\"])\n",
    "\n",
    "# Display the DataFrame\n",
    "print(df)"
   ]
  }
 ],
 "metadata": {
  "kernelspec": {
   "display_name": "Python 3 (ipykernel)",
   "language": "python",
   "name": "python3"
  },
  "language_info": {
   "codemirror_mode": {
    "name": "ipython",
    "version": 3
   },
   "file_extension": ".py",
   "mimetype": "text/x-python",
   "name": "python",
   "nbconvert_exporter": "python",
   "pygments_lexer": "ipython3",
   "version": "3.11.5"
  }
 },
 "nbformat": 4,
 "nbformat_minor": 5
}
